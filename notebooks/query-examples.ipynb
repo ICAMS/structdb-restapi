{
 "cells": [
  {
   "cell_type": "code",
   "execution_count": 1,
   "metadata": {},
   "outputs": [
    {
     "name": "stdout",
     "output_type": "stream",
     "text": [
      "Populating the interactive namespace from numpy and matplotlib\n"
     ]
    }
   ],
   "source": [
    "%pylab inline"
   ]
  },
  {
   "cell_type": "code",
   "execution_count": 2,
   "metadata": {},
   "outputs": [],
   "source": [
    "from structdbrest import StructDBLightRester"
   ]
  },
  {
   "cell_type": "code",
   "execution_count": 3,
   "metadata": {},
   "outputs": [],
   "source": [
    "RESTAPI_TOKEN='XXXX' # ACCESS TOKEN GOES HERE"
   ]
  },
  {
   "cell_type": "code",
   "execution_count": 4,
   "metadata": {},
   "outputs": [],
   "source": [
    "rest = StructDBLightRester(token = RESTAPI_TOKEN)"
   ]
  },
  {
   "cell_type": "markdown",
   "metadata": {},
   "source": [
    "Query the FHi-aims calculator"
   ]
  },
  {
   "cell_type": "code",
   "execution_count": 5,
   "metadata": {},
   "outputs": [
    {
     "name": "stdout",
     "output_type": "stream",
     "text": [
      "Querying...done\n",
      "Response successful, size = 7.20 kB, time = 0.23 s\n",
      "1  entries received\n"
     ]
    },
    {
     "data": {
      "text/plain": [
       "<CalculatorType #523:FHI-aims/PBE/tight>"
      ]
     },
     "execution_count": 5,
     "metadata": {},
     "output_type": "execute_result"
    }
   ],
   "source": [
    "fhi_calc = rest.query_calculator_types(calculator_name=\"FHI%\")[0]\n",
    "fhi_calc"
   ]
  },
  {
   "cell_type": "markdown",
   "metadata": {},
   "source": [
    "# E-V curve (Murnaghan)"
   ]
  },
  {
   "cell_type": "markdown",
   "metadata": {},
   "source": [
    "Query all murnaghan properties computed with FHI-aims calculator"
   ]
  },
  {
   "cell_type": "code",
   "execution_count": 6,
   "metadata": {},
   "outputs": [
    {
     "name": "stdout",
     "output_type": "stream",
     "text": [
      "Querying...done\n",
      "Response successful, size = 153.77 kB, time = 1.25 s\n",
      "7  entries received\n"
     ]
    },
    {
     "data": {
      "text/plain": [
       "[<Property #2192586:murnaghan:Cu-1:A1:FHI-aims/PBE/tight:murnaghan>,\n",
       " <Property #2192842:murnaghan:Cu-1:A2:FHI-aims/PBE/tight:murnaghan>,\n",
       " <Property #2192874:murnaghan:Cu-2:A3:FHI-aims/PBE/tight:murnaghan>,\n",
       " <Property #2192920:murnaghan:Cu-4:A3p:FHI-aims/PBE/tight:murnaghan>,\n",
       " <Property #2192967:murnaghan:Cu-2:A4:FHI-aims/PBE/tight:murnaghan>,\n",
       " <Property #2193001:murnaghan:Cu-1:A_h:FHI-aims/PBE/tight:murnaghan>,\n",
       " <Property #2193035:murnaghan:Cu-1:A_f:FHI-aims/PBE/tight:murnaghan>]"
      ]
     },
     "execution_count": 6,
     "metadata": {},
     "output_type": "execute_result"
    }
   ],
   "source": [
    "fhi_murn_properties = rest.query_properties(rest.PropertyTypes.MURNAGHAN, calculator_name=fhi_calc.NAME)\n",
    "fhi_murn_properties "
   ]
  },
  {
   "cell_type": "markdown",
   "metadata": {},
   "source": [
    "Query murnaghan property computed with FHI-aims calculator for copper in A1 (fcc) crystallographic prototypes"
   ]
  },
  {
   "cell_type": "code",
   "execution_count": 7,
   "metadata": {},
   "outputs": [
    {
     "name": "stdout",
     "output_type": "stream",
     "text": [
      "Querying...done\n",
      "Response successful, size = 0.16 kB, time = 0.25 s\n",
      "1  entries received\n"
     ]
    },
    {
     "data": {
      "text/plain": [
       "<Property #2192586:murnaghan:Cu-1:A1:FHI-aims/PBE/tight:murnaghan>"
      ]
     },
     "execution_count": 7,
     "metadata": {},
     "output_type": "execute_result"
    }
   ],
   "source": [
    "Cu_fcc_murn_prop = rest.query_properties(rest.PropertyTypes.MURNAGHAN, calculator_name=fhi_calc.NAME,\n",
    "                                         composition=\"Cu-%\", strukturbericht=\"A1\"                                         \n",
    "                                    )\n",
    "Cu_fcc_murn_prop=Cu_fcc_murn_prop[0]\n",
    "Cu_fcc_murn_prop"
   ]
  },
  {
   "cell_type": "markdown",
   "metadata": {},
   "source": [
    "Property data:"
   ]
  },
  {
   "cell_type": "code",
   "execution_count": 8,
   "metadata": {},
   "outputs": [
    {
     "data": {
      "text/plain": [
       "{'energy': [-45246.0899631628,\n",
       "  -45246.1151609274,\n",
       "  -45246.1335518575,\n",
       "  -45246.1459111637,\n",
       "  -45246.1529285425,\n",
       "  -45246.1552111184,\n",
       "  -45246.1533020932,\n",
       "  -45246.1476776391,\n",
       "  -45246.1387638882,\n",
       "  -45246.1269363688,\n",
       "  -45246.1125347503],\n",
       " 'equilibrium_b_prime': 5.037561620377319,\n",
       " 'equilibrium_bulk_modulus': 144.20691964709485,\n",
       " 'equilibrium_energy': -45246.15539869882,\n",
       " 'equilibrium_volume': 11.970484432962996,\n",
       " 'volume': [10.768936749113328,\n",
       "  11.00826214050653,\n",
       "  11.247558712727146,\n",
       "  11.486872728667258,\n",
       "  11.726182093796062,\n",
       "  11.965489834841975,\n",
       "  12.204805349648002,\n",
       "  12.444124062082892,\n",
       "  12.683426075890331,\n",
       "  12.922737295628943,\n",
       "  13.162047685810071]}"
      ]
     },
     "execution_count": 8,
     "metadata": {},
     "output_type": "execute_result"
    }
   ],
   "source": [
    "Cu_fcc_murn_prop.VALUE"
   ]
  },
  {
   "cell_type": "code",
   "execution_count": 9,
   "metadata": {},
   "outputs": [
    {
     "data": {
      "text/plain": [
       "Text(0, 0.5, 'E, eV')"
      ]
     },
     "execution_count": 9,
     "metadata": {},
     "output_type": "execute_result"
    },
    {
     "data": {
      "image/png": "[encoded data removed]",
      "text/plain": [
       "<Figure size 432x288 with 1 Axes>"
      ]
     },
     "metadata": {
      "needs_background": "light"
     },
     "output_type": "display_data"
    }
   ],
   "source": [
    "plt.plot(Cu_fcc_murn_prop.VALUE[\"volume\"], Cu_fcc_murn_prop.VALUE[\"energy\"], \"o-\")\n",
    "plt.xlabel(\"V, A^3\")\n",
    "plt.ylabel(\"E, eV\")"
   ]
  },
  {
   "cell_type": "markdown",
   "metadata": {},
   "source": [
    "Corresponding structure for this property:"
   ]
  },
  {
   "cell_type": "code",
   "execution_count": 10,
   "metadata": {},
   "outputs": [
    {
     "data": {
      "text/plain": [
       "<StructureEntry #2056410:Cu-1>"
      ]
     },
     "execution_count": 10,
     "metadata": {},
     "output_type": "execute_result"
    }
   ],
   "source": [
    "Cu_fcc_murn_prop.ORIGINAL_STRUCTURE"
   ]
  },
  {
   "cell_type": "markdown",
   "metadata": {},
   "source": [
    "Convert is to ASE atoms:"
   ]
  },
  {
   "cell_type": "code",
   "execution_count": 11,
   "metadata": {},
   "outputs": [
    {
     "data": {
      "text/plain": [
       "Atoms(symbols='Cu', pbc=True, cell=[[0.0, 1.8156295545655798, 1.8156295545655798], [1.8156295545655798, 0.0, 1.8156295545655798], [1.8156295545655798, 1.8156295545655798, 0.0]])"
      ]
     },
     "execution_count": 11,
     "metadata": {},
     "output_type": "execute_result"
    }
   ],
   "source": [
    "Cu_fcc_murn_prop.ORIGINAL_STRUCTURE.get_atoms()"
   ]
  },
  {
   "cell_type": "markdown",
   "metadata": {},
   "source": [
    "Check to corresponding subproperties of the Murnaghan property:"
   ]
  },
  {
   "cell_type": "code",
   "execution_count": 12,
   "metadata": {},
   "outputs": [
    {
     "data": {
      "text/plain": [
       "{'strain_0_9': <Property #2192587:static:Cu-1:A1:FHI-aims/PBE/tight:murnaghan:strain_0_9>,\n",
       " 'strain_0_92': <Property #2192588:static:Cu-1:A1:FHI-aims/PBE/tight:murnaghan:strain_0_92>,\n",
       " 'strain_0_94': <Property #2192589:static:Cu-1:A1:FHI-aims/PBE/tight:murnaghan:strain_0_94>,\n",
       " 'strain_0_96': <Property #2192590:static:Cu-1:A1:FHI-aims/PBE/tight:murnaghan:strain_0_96>,\n",
       " 'strain_0_98': <Property #2192591:static:Cu-1:A1:FHI-aims/PBE/tight:murnaghan:strain_0_98>,\n",
       " 'strain_1_0': <Property #2192592:static:Cu-1:A1:FHI-aims/PBE/tight:murnaghan:strain_1_0>,\n",
       " 'strain_1_02': <Property #2192593:static:Cu-1:A1:FHI-aims/PBE/tight:murnaghan:strain_1_02>,\n",
       " 'strain_1_04': <Property #2192594:static:Cu-1:A1:FHI-aims/PBE/tight:murnaghan:strain_1_04>,\n",
       " 'strain_1_06': <Property #2192595:static:Cu-1:A1:FHI-aims/PBE/tight:murnaghan:strain_1_06>,\n",
       " 'strain_1_08': <Property #2192596:static:Cu-1:A1:FHI-aims/PBE/tight:murnaghan:strain_1_08>,\n",
       " 'strain_1_1': <Property #2192597:static:Cu-1:A1:FHI-aims/PBE/tight:murnaghan:strain_1_1>}"
      ]
     },
     "execution_count": 12,
     "metadata": {},
     "output_type": "execute_result"
    }
   ],
   "source": [
    "Cu_fcc_murn_prop.CHILDREN"
   ]
  },
  {
   "cell_type": "code",
   "execution_count": 13,
   "metadata": {},
   "outputs": [
    {
     "data": {
      "text/plain": [
       "{'energy': -45246.0899631628,\n",
       " 'energy_corrected': -45246.0893274806,\n",
       " 'energy_uncorrected': -45246.0886917984,\n",
       " 'forces': [[0.0, 0.0, 0.0]],\n",
       " 'free_energy': -45246.0899631628,\n",
       " 'n_atom': 1,\n",
       " 'pressure': 0.12069361,\n",
       " 'volume': 10.768936749113328}"
      ]
     },
     "execution_count": 13,
     "metadata": {},
     "output_type": "execute_result"
    }
   ],
   "source": [
    "Cu_fcc_murn_prop.CHILDREN[\"strain_0_9\"].VALUE"
   ]
  },
  {
   "cell_type": "code",
   "execution_count": 14,
   "metadata": {},
   "outputs": [
    {
     "data": {
      "text/plain": [
       "Cell([[0.0, 1.752727, 1.752727], [1.752727, 0.0, 1.752727], [1.752727, 1.752727, 0.0]])"
      ]
     },
     "execution_count": 14,
     "metadata": {},
     "output_type": "execute_result"
    }
   ],
   "source": [
    "Cu_fcc_murn_prop.CHILDREN[\"strain_0_9\"].ORIGINAL_STRUCTURE.get_atoms().cell"
   ]
  },
  {
   "cell_type": "code",
   "execution_count": 15,
   "metadata": {},
   "outputs": [
    {
     "data": {
      "text/plain": [
       "Cell([[0.0, 1.873978, 1.873978], [1.873978, 0.0, 1.873978], [1.873978, 1.873978, 0.0]])"
      ]
     },
     "execution_count": 15,
     "metadata": {},
     "output_type": "execute_result"
    }
   ],
   "source": [
    "Cu_fcc_murn_prop.CHILDREN[\"strain_1_1\"].ORIGINAL_STRUCTURE.get_atoms().cell"
   ]
  },
  {
   "cell_type": "markdown",
   "metadata": {},
   "source": [
    "# Elastic matrix"
   ]
  },
  {
   "cell_type": "code",
   "execution_count": 16,
   "metadata": {},
   "outputs": [
    {
     "name": "stdout",
     "output_type": "stream",
     "text": [
      "Querying...done\n",
      "Response successful, size = 334.03 kB, time = 1.97 s\n",
      "7  entries received\n"
     ]
    },
    {
     "data": {
      "text/plain": [
       "[<Property #2192598:elastic_matrix:Cu-1:A1:FHI-aims/PBE/tight:elastic>,\n",
       " <Property #2192854:elastic_matrix:Cu-1:A2:FHI-aims/PBE/tight:elastic>,\n",
       " <Property #2192886:elastic_matrix:Cu-2:A3:FHI-aims/PBE/tight:elastic>,\n",
       " <Property #2192932:elastic_matrix:Cu-4:A3p:FHI-aims/PBE/tight:elastic>,\n",
       " <Property #2192979:elastic_matrix:Cu-2:A4:FHI-aims/PBE/tight:elastic>,\n",
       " <Property #2193013:elastic_matrix:Cu-1:A_h:FHI-aims/PBE/tight:elastic>,\n",
       " <Property #2193047:elastic_matrix:Cu-1:A_f:FHI-aims/PBE/tight:elastic>]"
      ]
     },
     "execution_count": 16,
     "metadata": {},
     "output_type": "execute_result"
    }
   ],
   "source": [
    "rest.query_properties(rest.PropertyTypes.ELASTIC_MATRIX, composition=\"Cu-%\", calculator_name=fhi_calc.NAME)"
   ]
  },
  {
   "cell_type": "code",
   "execution_count": 17,
   "metadata": {},
   "outputs": [
    {
     "name": "stdout",
     "output_type": "stream",
     "text": [
      "Querying...done\n",
      "Response successful, size = 0.16 kB, time = 0.34 s\n",
      "1  entries received\n"
     ]
    },
    {
     "data": {
      "text/plain": [
       "<Property #2192598:elastic_matrix:Cu-1:A1:FHI-aims/PBE/tight:elastic>"
      ]
     },
     "execution_count": 17,
     "metadata": {},
     "output_type": "execute_result"
    }
   ],
   "source": [
    "Cu_fcc_elastic_prop = rest.query_properties(rest.PropertyTypes.ELASTIC_MATRIX, \n",
    "                                            composition=\"Cu-%\", \n",
    "                                            calculator_name=fhi_calc.NAME,\n",
    "                                            strukturbericht=\"A1\"\n",
    "                                           )[0]\n",
    "Cu_fcc_elastic_prop"
   ]
  },
  {
   "cell_type": "markdown",
   "metadata": {},
   "source": [
    "Elastic matrix for fcc-Cu computed with FHI-aims"
   ]
  },
  {
   "cell_type": "code",
   "execution_count": 18,
   "metadata": {},
   "outputs": [
    {
     "data": {
      "text/plain": [
       "[[176.9053561546803, 131.65386178545305, 131.65386178545305, 0.0, 0.0, 0.0],\n",
       " [131.65386178545305, 176.9053561546803, 131.65386178545305, 0.0, 0.0, 0.0],\n",
       " [131.65386178545305, 131.65386178545305, 176.9053561546803, 0.0, 0.0, 0.0],\n",
       " [0.0, 0.0, 0.0, 82.46735842027694, 0.0, 0.0],\n",
       " [0.0, 0.0, 0.0, 0.0, 82.46735842027694, 0.0],\n",
       " [0.0, 0.0, 0.0, 0.0, 0.0, 82.46735842027694]]"
      ]
     },
     "execution_count": 18,
     "metadata": {},
     "output_type": "execute_result"
    }
   ],
   "source": [
    "Cu_fcc_elastic_prop.VALUE[\"C\"]"
   ]
  },
  {
   "cell_type": "code",
   "execution_count": null,
   "metadata": {},
   "outputs": [],
   "source": []
  },
  {
   "cell_type": "code",
   "execution_count": null,
   "metadata": {},
   "outputs": [],
   "source": []
  },
  {
   "cell_type": "markdown",
   "metadata": {},
   "source": [
    "# Phonons"
   ]
  },
  {
   "cell_type": "code",
   "execution_count": 19,
   "metadata": {},
   "outputs": [
    {
     "name": "stdout",
     "output_type": "stream",
     "text": [
      "Querying...done\n",
      "Response successful, size = 297.30 kB, time = 0.72 s\n",
      "10  entries received\n"
     ]
    },
    {
     "data": {
      "text/plain": [
       "[<Property #2192644:phonons:Cu-1:A1:FHI-aims/PBE/tight:phonon>,\n",
       " <Property #2192918:phonons:Cu-2:A3:FHI-aims/PBE/tight:phonon>,\n",
       " <Property #2192964:phonons:Cu-4:A3p:FHI-aims/PBE/tight:phonon>,\n",
       " <Property #2192999:phonons:Cu-2:A4:FHI-aims/PBE/tight:phonon>,\n",
       " <Property #2193033:phonons:Cu-1:A_h:FHI-aims/PBE/tight:phonon>,\n",
       " <Property #2193079:phonons:Cu-1:A_f:FHI-aims/PBE/tight:phonon>,\n",
       " <Property #2193081:phonons:Cu-1:A2:FHI-aims/PBE/tight:phonon>,\n",
       " <Property #2214066:phonons:Cu-1:hex_2d:FHI-aims/PBE/tight:phonon:sc_331>,\n",
       " <Property #2214068:phonons:Cu-1:hex_2d:FHI-aims/PBE/tight:phonon:sc_551>,\n",
       " <Property #2214071:phonons:Cu-2:bSQ_2d:FHI-aims/PBE/tight:phonon:sc_441>]"
      ]
     },
     "execution_count": 19,
     "metadata": {},
     "output_type": "execute_result"
    }
   ],
   "source": [
    "rest.query_properties(rest.PropertyTypes.PHONONS, composition=\"Cu-%\", calculator_name=fhi_calc.NAME)"
   ]
  },
  {
   "cell_type": "code",
   "execution_count": 20,
   "metadata": {},
   "outputs": [
    {
     "name": "stdout",
     "output_type": "stream",
     "text": [
      "Querying...done\n",
      "Response successful, size = 0.16 kB, time = 0.18 s\n",
      "1  entries received\n"
     ]
    },
    {
     "data": {
      "text/plain": [
       "<Property #2192644:phonons:Cu-1:A1:FHI-aims/PBE/tight:phonon>"
      ]
     },
     "execution_count": 20,
     "metadata": {},
     "output_type": "execute_result"
    }
   ],
   "source": [
    "Cu_fcc_phonon_prop = rest.query_properties(rest.PropertyTypes.PHONONS, \n",
    "                                            composition=\"Cu-%\", \n",
    "                                            calculator_name=fhi_calc.NAME,\n",
    "                                            strukturbericht=\"A1\"\n",
    "                                           )[0]\n",
    "Cu_fcc_phonon_prop"
   ]
  },
  {
   "cell_type": "code",
   "execution_count": 21,
   "metadata": {},
   "outputs": [
    {
     "data": {
      "text/plain": [
       "Text(0, 0.5, 'Ph. DOS, 1/THz')"
      ]
     },
     "execution_count": 21,
     "metadata": {},
     "output_type": "execute_result"
    },
    {
     "data": {
      "image/png": "[encoded data removed]",
      "text/plain": [
       "<Figure size 432x288 with 1 Axes>"
      ]
     },
     "metadata": {
      "needs_background": "light"
     },
     "output_type": "display_data"
    }
   ],
   "source": [
    "plt.plot(Cu_fcc_phonon_prop.VALUE[\"dos_energies\"],Cu_fcc_phonon_prop.VALUE[\"dos_total\"])\n",
    "plt.xlabel(\"f, THz\")\n",
    "plt.ylabel(\"Ph. DOS, 1/THz\")"
   ]
  },
  {
   "cell_type": "code",
   "execution_count": null,
   "metadata": {},
   "outputs": [],
   "source": []
  },
  {
   "cell_type": "code",
   "execution_count": null,
   "metadata": {},
   "outputs": [],
   "source": []
  },
  {
   "cell_type": "markdown",
   "metadata": {},
   "source": [
    "# Vacancy computed with VASP"
   ]
  },
  {
   "cell_type": "code",
   "execution_count": 22,
   "metadata": {},
   "outputs": [
    {
     "name": "stdout",
     "output_type": "stream",
     "text": [
      "Querying...done\n",
      "Response successful, size = 0.35 kB, time = 0.13 s\n",
      "1  entries received\n"
     ]
    }
   ],
   "source": [
    "vasp_calc = rest.query_calculator_types(\"VASP.5.4/500/kdens 0.1/SP/PBE\")[0]"
   ]
  },
  {
   "cell_type": "code",
   "execution_count": 23,
   "metadata": {},
   "outputs": [
    {
     "name": "stdout",
     "output_type": "stream",
     "text": [
      "Querying...done\n",
      "Response successful, size = 376.27 kB, time = 1.13 s\n",
      "11  entries received\n"
     ]
    },
    {
     "data": {
      "text/plain": [
       "[<Property #146177:defect:Cu-1:A6:VASP.5.4/500/kdens 0.1/SP/PBE>,\n",
       " <Property #146582:defect:Cu-1:A_a:VASP.5.4/500/kdens 0.1/SP/PBE>,\n",
       " <Property #146595:defect:Cu-1:A1:VASP.5.4/500/kdens 0.1/SP/PBE>,\n",
       " <Property #159146:defect:Cu-1:A10:VASP.5.4/500/kdens 0.1/SP/PBE>,\n",
       " <Property #159151:defect:Cu-1:A2:VASP.5.4/500/kdens 0.1/SP/PBE>,\n",
       " <Property #159156:defect:Cu-2:A4:VASP.5.4/500/kdens 0.1/SP/PBE>,\n",
       " <Property #172897:defect:Cu-4:A9:VASP.5.4/500/kdens 0.1/SP/PBE>,\n",
       " <Property #899532:defect:Cu-1:A2_gen_252:VASP.5.4/500/kdens 0.1/SP/PBE:defect_formation_kpt_recalc:kpt_recalc>,\n",
       " <Property #900301:defect:Cu-1:A_h_gen_257:VASP.5.4/500/kdens 0.1/SP/PBE:defect_formation_kpt_recalc:kpt_recalc>,\n",
       " <Property #900474:defect:Cu-2:A4_gen_64:VASP.5.4/500/kdens 0.1/SP/PBE:defect_formation_kpt_recalc:kpt_recalc>,\n",
       " <Property #905434:defect:Cu-3:C19_gen_245:VASP.5.4/500/kdens 0.1/SP/PBE:defect_formation_kpt_recalc:kpt_recalc>]"
      ]
     },
     "execution_count": 23,
     "metadata": {},
     "output_type": "execute_result"
    }
   ],
   "source": [
    "rest.query_properties(rest.PropertyTypes.DEFECT, composition=\"Cu-%\", calculator_name=vasp_calc.NAME)"
   ]
  },
  {
   "cell_type": "code",
   "execution_count": 24,
   "metadata": {},
   "outputs": [
    {
     "name": "stdout",
     "output_type": "stream",
     "text": [
      "Querying...done\n",
      "Response successful, size = 0.16 kB, time = 0.22 s\n",
      "1  entries received\n"
     ]
    },
    {
     "data": {
      "text/plain": [
       "<Property #146595:defect:Cu-1:A1:VASP.5.4/500/kdens 0.1/SP/PBE>"
      ]
     },
     "execution_count": 24,
     "metadata": {},
     "output_type": "execute_result"
    }
   ],
   "source": [
    "Cu_fcc_vac_prop = rest.query_properties(rest.PropertyTypes.DEFECT, \n",
    "                                            composition=\"Cu-%\", \n",
    "                                            calculator_name=vasp_calc.NAME,\n",
    "                                            strukturbericht=\"A1\"\n",
    "                                           )[0]\n",
    "Cu_fcc_vac_prop"
   ]
  },
  {
   "cell_type": "code",
   "execution_count": 25,
   "metadata": {},
   "outputs": [
    {
     "data": {
      "text/plain": [
       "{'energies': {'supercell_0': -238.61130333,\n",
       "  'supercell_defect_wyck_a_atomic': -233.81732152,\n",
       "  'supercell_defect_wyck_a_static': -233.78831972,\n",
       "  'supercell_defect_wyck_a_total': -233.83152967},\n",
       " 'n': 64,\n",
       " 'reference_energies': {'Cu': -0.23622365110083798},\n",
       " 'supercell_range': [4, 4, 4],\n",
       " 'vacancy_formation_energy': {'a_atomic': 1.0656801954687296,\n",
       "  'a_static': 1.0946819954687328,\n",
       "  'a_total': 1.0514720454687279},\n",
       " 'vacancy_formation_volume': {'a_total': -5.115335706123801},\n",
       " 'volumes': {'supercell_0': 768.3863517970179,\n",
       "  'supercell_defect_wyck_a_atomic': 768.3863517970179,\n",
       "  'supercell_defect_wyck_a_static': 768.3863517970179,\n",
       "  'supercell_defect_wyck_a_total': 763.2710160908941},\n",
       " 'wyckoff_unique_indices': {'a': 0}}"
      ]
     },
     "execution_count": 25,
     "metadata": {},
     "output_type": "execute_result"
    }
   ],
   "source": [
    "Cu_fcc_vac_prop.VALUE"
   ]
  },
  {
   "cell_type": "code",
   "execution_count": 26,
   "metadata": {},
   "outputs": [
    {
     "data": {
      "text/plain": [
       "{'a_atomic': 1.0656801954687296,\n",
       " 'a_static': 1.0946819954687328,\n",
       " 'a_total': 1.0514720454687279}"
      ]
     },
     "execution_count": 26,
     "metadata": {},
     "output_type": "execute_result"
    }
   ],
   "source": [
    "Cu_fcc_vac_prop.VALUE[\"vacancy_formation_energy\"]"
   ]
  },
  {
   "cell_type": "markdown",
   "metadata": {},
   "source": [
    "# Surface energies for Cu computed with FHI-aims"
   ]
  },
  {
   "cell_type": "code",
   "execution_count": 27,
   "metadata": {},
   "outputs": [
    {
     "name": "stdout",
     "output_type": "stream",
     "text": [
      "Querying...done\n",
      "Response successful, size = 35.88 kB, time = 0.47 s\n",
      "9  entries received\n"
     ]
    }
   ],
   "source": [
    "Cu_surf_props = rest.query_properties(rest.PropertyTypes.SURFACE_ENERGY, \n",
    "                      calculator_name=fhi_calc.NAME,\n",
    "                      composition=\"Cu-%\"\n",
    "                     )"
   ]
  },
  {
   "cell_type": "code",
   "execution_count": 28,
   "metadata": {},
   "outputs": [
    {
     "data": {
      "text/plain": [
       "<Property #2192646:surface_energy:Cu-1:fcc_100surf_X100_Y010_Z001_10at:A1:FHI-aims/PBE/tight:surface_energy>"
      ]
     },
     "execution_count": 28,
     "metadata": {},
     "output_type": "execute_result"
    }
   ],
   "source": [
    "surf_prop = Cu_surf_props[0]\n",
    "\n",
    "surf_prop"
   ]
  },
  {
   "cell_type": "code",
   "execution_count": 29,
   "metadata": {},
   "outputs": [
    {
     "data": {
      "text/plain": [
       "'fcc_100surf_X100_Y010_Z001_10at:A1:FHI-aims/PBE/tight:surface_energy'"
      ]
     },
     "execution_count": 29,
     "metadata": {},
     "output_type": "execute_result"
    }
   ],
   "source": [
    "surf_prop.NAME"
   ]
  },
  {
   "cell_type": "code",
   "execution_count": 30,
   "metadata": {},
   "outputs": [
    {
     "data": {
      "text/plain": [
       "{'number_of_atoms': 10,\n",
       " 'ref_renergy_per_atom': -45246.15539869882,\n",
       " 'surface_area': 13.186042723957991,\n",
       " 'surface_energy': 0.09258575788503419,\n",
       " 'surface_orientation': '100',\n",
       " 'surface_structure_energy': -452459.11230747}"
      ]
     },
     "execution_count": 30,
     "metadata": {},
     "output_type": "execute_result"
    }
   ],
   "source": [
    "surf_prop.VALUE"
   ]
  },
  {
   "cell_type": "markdown",
   "metadata": {},
   "source": [
    "related properties, that were used for surface energy calculations"
   ]
  },
  {
   "cell_type": "code",
   "execution_count": 31,
   "metadata": {},
   "outputs": [
    {
     "data": {
      "text/plain": [
       "{'reference_energy_property': <Property #2192586:murnaghan:Cu-1:A1:FHI-aims/PBE/tight:murnaghan>,\n",
       " 'surface_energy_property': <Property #2192647:static:Cu-10:fcc_100surf_X100_Y010_Z001_10at:A1:FHI-aims/PBE/tight:surface_energy:surface_energy_static_property>}"
      ]
     },
     "execution_count": 31,
     "metadata": {},
     "output_type": "execute_result"
    }
   ],
   "source": [
    "surf_prop.CHILDREN"
   ]
  },
  {
   "cell_type": "code",
   "execution_count": null,
   "metadata": {},
   "outputs": [],
   "source": []
  }
 ],
 "metadata": {
  "kernelspec": {
   "display_name": "Python 3",
   "language": "python",
   "name": "python3"
  },
  "language_info": {
   "codemirror_mode": {
    "name": "ipython",
    "version": 3
   },
   "file_extension": ".py",
   "mimetype": "text/x-python",
   "name": "python",
   "nbconvert_exporter": "python",
   "pygments_lexer": "ipython3",
   "version": "3.7.6"
  }
 },
 "nbformat": 4,
 "nbformat_minor": 4
}
